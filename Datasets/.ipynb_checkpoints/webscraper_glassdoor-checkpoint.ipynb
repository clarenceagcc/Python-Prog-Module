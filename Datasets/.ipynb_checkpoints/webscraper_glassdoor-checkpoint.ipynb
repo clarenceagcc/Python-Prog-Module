{
 "cells": [
  {
   "cell_type": "code",
   "execution_count": 1,
   "id": "a75bf36c-5236-41fb-ac3c-b95e91d93b29",
   "metadata": {},
   "outputs": [],
   "source": [
    "from selenium.common.exceptions import NoSuchElementException, ElementClickInterceptedException\n",
    "from selenium.webdriver.chrome.service import Service\n",
    "from selenium.webdriver.common.by import By\n",
    "from selenium import webdriver\n",
    "import time\n",
    "import pandas as pd"
   ]
  },
  {
   "cell_type": "code",
   "execution_count": null,
   "id": "817d013f-2b36-468d-b275-5c408774d97f",
   "metadata": {},
   "outputs": [],
   "source": []
  },
  {
   "cell_type": "code",
   "execution_count": 2,
   "id": "f4b56c85-1798-43d8-ba5a-5b2dd5a042d2",
   "metadata": {
    "editable": true,
    "slideshow": {
     "slide_type": ""
    },
    "tags": []
   },
   "outputs": [],
   "source": [
    "def get_jobs(num_jobs, verbose):\n",
    "    \n",
    "    '''Gathers jobs as a dataframe, scraped from Glassdoor'''\n",
    "    \n",
    "    #Initializing the webdriver\n",
    "    options = webdriver.ChromeOptions()\n",
    "    \n",
    "    #Uncomment the line below if you'd like to scrape without a new Chrome window every time.\n",
    "    #options.add_argument('headless')\n",
    "    \n",
    "    #Change the path to where chromedriver is in your home folder.\n",
    "    service = Service(executable_path='/usr/bin/chromedriver')\n",
    "    driver = webdriver.Chrome(service=service, options=options)\n",
    "    driver.set_window_size(1120, 1000)\n",
    "    for pages in range(1,4,1):\n",
    "        url = 'https://www.glassdoor.sg/Job/machine-learning-engineer-jobs-SRCH_KO0,25_IP'+str(pages)+'.htm?includeNoSalaryJobs=true'\n",
    "        driver.get(url)\n",
    "        jobs = []\n",
    "    \n",
    "        while len(jobs) < num_jobs:  #If true, should be still looking for new jobs.\n",
    "    \n",
    "            time.sleep(.1)\n",
    "            job_buttons = driver.find_elements(By.CLASS_NAME, 'react-job-listing')\n",
    "    \n",
    "            #Test for the \"Sign Up\" prompt and get rid of it.\n",
    "            try:\n",
    "                driver.find_element(By.CLASS_NAME, 'selected').click()\n",
    "            except ElementClickInterceptedException:\n",
    "                pass\n",
    "    \n",
    "            time.sleep(1)\n",
    "    \n",
    "            try:\n",
    "                driver.find_element(By.XPATH, '/html/body/div[12]/div/div/div/div[2]/button').click()  #clicking to the X.\n",
    "            except NoSuchElementException:\n",
    "                pass\n",
    "            \n",
    "            try:\n",
    "                driver.find_element(By.XPATH, '//*[@id=\"LoginModal\"]/div/div/div/div[2]/button').click()\n",
    "            except NoSuchElementException:\n",
    "                pass\n",
    "    \n",
    "            for jobs_ in job_buttons:\n",
    "                print(\"Progress: {}\".format(\"\" + str(len(jobs)) + \"/\" + str(num_jobs)))\n",
    "                if len(jobs) >= num_jobs:\n",
    "                    break\n",
    "                \n",
    "                time.sleep(1)\n",
    "                jobs_.click()\n",
    "                collected_successfully = False\n",
    "                while not collected_successfully:\n",
    "                    try:\n",
    "                        job_title = driver.find_element(By.XPATH, '//*[@id=\"JDCol\"]/div/article/div/div[1]/div/div/div[1]/div[3]/div[1]/div[2]').text\n",
    "                        company_name = driver.find_element(By.XPATH,'//*[@id=\"JDCol\"]/div/article/div/div[1]/div/div/div[1]/div[3]/div[1]/div[1]/div').text\n",
    "                        location = driver.find_element(By.XPATH, '//*[@id=\"JDCol\"]/div/article/div/div[1]/div/div/div[1]/div[3]/div[1]/div[3]').text\n",
    "                        collected_successfully = True\n",
    "                        \n",
    "                    except:\n",
    "                        print(\"LOADING\")\n",
    "                        time.sleep(5)\n",
    "                try:\n",
    "                    salary_estimate = driver.find_element(By.XPATH, '//*[@id=\"JDCol\"]/div/article/div/div[1]/div/div/div[1]/div[3]/div[1]/div[4]/span').text\n",
    "                except NoSuchElementException:\n",
    "                    salary_estimate = -1 #You need to set a \"not found value. It's important.\"\n",
    "                \n",
    "                try:\n",
    "                    company_rating = driver.find_element(By.XPATH,'//*[@id=\"JDCol\"]/div/article/div/div[1]/div/div/div[1]/div[3]/div[1]/div[1]/div/span').text\n",
    "                except NoSuchElementException:\n",
    "                    rating = -1 #You need to set a \"not found value. It's important.\"\n",
    "        \n",
    "                jobs.append({'Job Title' : job_title,\n",
    "                            'Company' : company_name,\n",
    "                            'Company Rating' : company_rating,\n",
    "                            'Salary' : salary_estimate,\n",
    "                            'Location' : location})\n",
    "                        \n",
    "\n",
    "    \n",
    "    return pd.DataFrame(jobs)\n",
    "        \n",
    "\n"
   ]
  },
  {
   "cell_type": "code",
   "execution_count": 3,
   "id": "45097bf1-0944-4e22-abc0-5efd0e1bf0e9",
   "metadata": {},
   "outputs": [
    {
     "name": "stdout",
     "output_type": "stream",
     "text": [
      "Progress: 0/1\n",
      "LOADING\n",
      "Progress: 1/1\n",
      "Progress: 0/1\n"
     ]
    },
    {
     "ename": "ElementClickInterceptedException",
     "evalue": "Message: element click intercepted: Element <li class=\"react-job-listing css-108gl9c eigr9kq3\" data-brandviews=\"BRAND:n=jsearch-job-listing:eid=102367:jlid=1008868920979\" data-id=\"1008868920979\" data-adv-type=\"GENERAL\" data-is-organic-job=\"false\" data-ad-order-id=\"1110586\" data-sgoc-id=\"1006\" data-is-easy-apply=\"true\" data-normalize-job-title=\"professor\" data-job-loc=\"Queenstown Estate\" data-job-loc-id=\"3235177\" data-job-loc-type=\"C\" data-selected=\"true\" data-test=\"jobListing\" style=\"\" data-triggered-brandview=\"\">...</li> is not clickable at point (210, 419). Other element would receive the click: <div class=\"css-7mz7ax e1xwgyi70\"></div>\n  (Session info: chrome=117.0.5938.62)\nStacktrace:\n#0 0x55f1338c2693 <unknown>\n#1 0x55f1335981e7 <unknown>\n#2 0x55f1335e565d <unknown>\n#3 0x55f1335e39fd <unknown>\n#4 0x55f1335e17b8 <unknown>\n#5 0x55f1335e0827 <unknown>\n#6 0x55f1335d54f9 <unknown>\n#7 0x55f1336010c2 <unknown>\n#8 0x55f1335d4f16 <unknown>\n#9 0x55f13360128e <unknown>\n#10 0x55f13361a322 <unknown>\n#11 0x55f133600e93 <unknown>\n#12 0x55f1335d3934 <unknown>\n#13 0x55f1335d471e <unknown>\n#14 0x55f133887c98 <unknown>\n#15 0x55f13388bbd0 <unknown>\n#16 0x55f13389617c <unknown>\n#17 0x55f13388c7e8 <unknown>\n#18 0x55f13385925f <unknown>\n#19 0x55f1338b0e68 <unknown>\n#20 0x55f1338b1039 <unknown>\n#21 0x55f1338c1823 <unknown>\n#22 0x7fc6a288c9eb <unknown>\n",
     "output_type": "error",
     "traceback": [
      "\u001b[0;31m---------------------------------------------------------------------------\u001b[0m",
      "\u001b[0;31mElementClickInterceptedException\u001b[0m          Traceback (most recent call last)",
      "Cell \u001b[0;32mIn[3], line 5\u001b[0m\n\u001b[1;32m      2\u001b[0m start_pg \u001b[38;5;241m=\u001b[39m \u001b[38;5;241m1\u001b[39m\n\u001b[1;32m      3\u001b[0m end_pg \u001b[38;5;241m=\u001b[39m \u001b[38;5;241m10\u001b[39m\n\u001b[0;32m----> 5\u001b[0m df \u001b[38;5;241m=\u001b[39m \u001b[43mget_jobs\u001b[49m\u001b[43m(\u001b[49m\u001b[43mno_of_jobs\u001b[49m\u001b[43m,\u001b[49m\u001b[43m \u001b[49m\u001b[38;5;28;43;01mFalse\u001b[39;49;00m\u001b[43m)\u001b[49m\n\u001b[1;32m      6\u001b[0m df\n",
      "Cell \u001b[0;32mIn[2], line 49\u001b[0m, in \u001b[0;36mget_jobs\u001b[0;34m(num_jobs, verbose)\u001b[0m\n\u001b[1;32m     46\u001b[0m     \u001b[38;5;28;01mbreak\u001b[39;00m\n\u001b[1;32m     48\u001b[0m time\u001b[38;5;241m.\u001b[39msleep(\u001b[38;5;241m1\u001b[39m)\n\u001b[0;32m---> 49\u001b[0m \u001b[43mjobs_\u001b[49m\u001b[38;5;241;43m.\u001b[39;49m\u001b[43mclick\u001b[49m\u001b[43m(\u001b[49m\u001b[43m)\u001b[49m\n\u001b[1;32m     50\u001b[0m collected_successfully \u001b[38;5;241m=\u001b[39m \u001b[38;5;28;01mFalse\u001b[39;00m\n\u001b[1;32m     51\u001b[0m \u001b[38;5;28;01mwhile\u001b[39;00m \u001b[38;5;129;01mnot\u001b[39;00m collected_successfully:\n",
      "File \u001b[0;32m/usr/lib/python3.11/site-packages/selenium/webdriver/remote/webelement.py:93\u001b[0m, in \u001b[0;36mWebElement.click\u001b[0;34m(self)\u001b[0m\n\u001b[1;32m     91\u001b[0m \u001b[38;5;28;01mdef\u001b[39;00m \u001b[38;5;21mclick\u001b[39m(\u001b[38;5;28mself\u001b[39m) \u001b[38;5;241m-\u001b[39m\u001b[38;5;241m>\u001b[39m \u001b[38;5;28;01mNone\u001b[39;00m:\n\u001b[1;32m     92\u001b[0m \u001b[38;5;250m    \u001b[39m\u001b[38;5;124;03m\"\"\"Clicks the element.\"\"\"\u001b[39;00m\n\u001b[0;32m---> 93\u001b[0m     \u001b[38;5;28;43mself\u001b[39;49m\u001b[38;5;241;43m.\u001b[39;49m\u001b[43m_execute\u001b[49m\u001b[43m(\u001b[49m\u001b[43mCommand\u001b[49m\u001b[38;5;241;43m.\u001b[39;49m\u001b[43mCLICK_ELEMENT\u001b[49m\u001b[43m)\u001b[49m\n",
      "File \u001b[0;32m/usr/lib/python3.11/site-packages/selenium/webdriver/remote/webelement.py:394\u001b[0m, in \u001b[0;36mWebElement._execute\u001b[0;34m(self, command, params)\u001b[0m\n\u001b[1;32m    392\u001b[0m     params \u001b[38;5;241m=\u001b[39m {}\n\u001b[1;32m    393\u001b[0m params[\u001b[38;5;124m\"\u001b[39m\u001b[38;5;124mid\u001b[39m\u001b[38;5;124m\"\u001b[39m] \u001b[38;5;241m=\u001b[39m \u001b[38;5;28mself\u001b[39m\u001b[38;5;241m.\u001b[39m_id\n\u001b[0;32m--> 394\u001b[0m \u001b[38;5;28;01mreturn\u001b[39;00m \u001b[38;5;28;43mself\u001b[39;49m\u001b[38;5;241;43m.\u001b[39;49m\u001b[43m_parent\u001b[49m\u001b[38;5;241;43m.\u001b[39;49m\u001b[43mexecute\u001b[49m\u001b[43m(\u001b[49m\u001b[43mcommand\u001b[49m\u001b[43m,\u001b[49m\u001b[43m \u001b[49m\u001b[43mparams\u001b[49m\u001b[43m)\u001b[49m\n",
      "File \u001b[0;32m/usr/lib/python3.11/site-packages/selenium/webdriver/remote/webdriver.py:344\u001b[0m, in \u001b[0;36mWebDriver.execute\u001b[0;34m(self, driver_command, params)\u001b[0m\n\u001b[1;32m    342\u001b[0m response \u001b[38;5;241m=\u001b[39m \u001b[38;5;28mself\u001b[39m\u001b[38;5;241m.\u001b[39mcommand_executor\u001b[38;5;241m.\u001b[39mexecute(driver_command, params)\n\u001b[1;32m    343\u001b[0m \u001b[38;5;28;01mif\u001b[39;00m response:\n\u001b[0;32m--> 344\u001b[0m     \u001b[38;5;28;43mself\u001b[39;49m\u001b[38;5;241;43m.\u001b[39;49m\u001b[43merror_handler\u001b[49m\u001b[38;5;241;43m.\u001b[39;49m\u001b[43mcheck_response\u001b[49m\u001b[43m(\u001b[49m\u001b[43mresponse\u001b[49m\u001b[43m)\u001b[49m\n\u001b[1;32m    345\u001b[0m     response[\u001b[38;5;124m\"\u001b[39m\u001b[38;5;124mvalue\u001b[39m\u001b[38;5;124m\"\u001b[39m] \u001b[38;5;241m=\u001b[39m \u001b[38;5;28mself\u001b[39m\u001b[38;5;241m.\u001b[39m_unwrap_value(response\u001b[38;5;241m.\u001b[39mget(\u001b[38;5;124m\"\u001b[39m\u001b[38;5;124mvalue\u001b[39m\u001b[38;5;124m\"\u001b[39m, \u001b[38;5;28;01mNone\u001b[39;00m))\n\u001b[1;32m    346\u001b[0m     \u001b[38;5;28;01mreturn\u001b[39;00m response\n",
      "File \u001b[0;32m/usr/lib/python3.11/site-packages/selenium/webdriver/remote/errorhandler.py:229\u001b[0m, in \u001b[0;36mErrorHandler.check_response\u001b[0;34m(self, response)\u001b[0m\n\u001b[1;32m    227\u001b[0m         alert_text \u001b[38;5;241m=\u001b[39m value[\u001b[38;5;124m\"\u001b[39m\u001b[38;5;124malert\u001b[39m\u001b[38;5;124m\"\u001b[39m]\u001b[38;5;241m.\u001b[39mget(\u001b[38;5;124m\"\u001b[39m\u001b[38;5;124mtext\u001b[39m\u001b[38;5;124m\"\u001b[39m)\n\u001b[1;32m    228\u001b[0m     \u001b[38;5;28;01mraise\u001b[39;00m exception_class(message, screen, stacktrace, alert_text)  \u001b[38;5;66;03m# type: ignore[call-arg]  # mypy is not smart enough here\u001b[39;00m\n\u001b[0;32m--> 229\u001b[0m \u001b[38;5;28;01mraise\u001b[39;00m exception_class(message, screen, stacktrace)\n",
      "\u001b[0;31mElementClickInterceptedException\u001b[0m: Message: element click intercepted: Element <li class=\"react-job-listing css-108gl9c eigr9kq3\" data-brandviews=\"BRAND:n=jsearch-job-listing:eid=102367:jlid=1008868920979\" data-id=\"1008868920979\" data-adv-type=\"GENERAL\" data-is-organic-job=\"false\" data-ad-order-id=\"1110586\" data-sgoc-id=\"1006\" data-is-easy-apply=\"true\" data-normalize-job-title=\"professor\" data-job-loc=\"Queenstown Estate\" data-job-loc-id=\"3235177\" data-job-loc-type=\"C\" data-selected=\"true\" data-test=\"jobListing\" style=\"\" data-triggered-brandview=\"\">...</li> is not clickable at point (210, 419). Other element would receive the click: <div class=\"css-7mz7ax e1xwgyi70\"></div>\n  (Session info: chrome=117.0.5938.62)\nStacktrace:\n#0 0x55f1338c2693 <unknown>\n#1 0x55f1335981e7 <unknown>\n#2 0x55f1335e565d <unknown>\n#3 0x55f1335e39fd <unknown>\n#4 0x55f1335e17b8 <unknown>\n#5 0x55f1335e0827 <unknown>\n#6 0x55f1335d54f9 <unknown>\n#7 0x55f1336010c2 <unknown>\n#8 0x55f1335d4f16 <unknown>\n#9 0x55f13360128e <unknown>\n#10 0x55f13361a322 <unknown>\n#11 0x55f133600e93 <unknown>\n#12 0x55f1335d3934 <unknown>\n#13 0x55f1335d471e <unknown>\n#14 0x55f133887c98 <unknown>\n#15 0x55f13388bbd0 <unknown>\n#16 0x55f13389617c <unknown>\n#17 0x55f13388c7e8 <unknown>\n#18 0x55f13385925f <unknown>\n#19 0x55f1338b0e68 <unknown>\n#20 0x55f1338b1039 <unknown>\n#21 0x55f1338c1823 <unknown>\n#22 0x7fc6a288c9eb <unknown>\n"
     ]
    }
   ],
   "source": [
    "no_of_jobs = 1\n",
    "start_pg = 1\n",
    "end_pg = 10\n",
    "\n",
    "df = get_jobs(no_of_jobs, False)\n",
    "df"
   ]
  },
  {
   "cell_type": "code",
   "execution_count": null,
   "id": "df5c2951-f47a-4b92-96f1-50419b1216a2",
   "metadata": {},
   "outputs": [],
   "source": []
  },
  {
   "cell_type": "code",
   "execution_count": null,
   "id": "7fc87f6a-b2fa-4b33-b550-2a699a832807",
   "metadata": {},
   "outputs": [],
   "source": []
  }
 ],
 "metadata": {
  "kernelspec": {
   "display_name": "Python 3 (ipykernel)",
   "language": "python",
   "name": "python3"
  },
  "language_info": {
   "codemirror_mode": {
    "name": "ipython",
    "version": 3
   },
   "file_extension": ".py",
   "mimetype": "text/x-python",
   "name": "python",
   "nbconvert_exporter": "python",
   "pygments_lexer": "ipython3",
   "version": "3.11.5"
  }
 },
 "nbformat": 4,
 "nbformat_minor": 5
}
